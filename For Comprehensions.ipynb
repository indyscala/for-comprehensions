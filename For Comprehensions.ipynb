{
 "cells": [
  {
   "cell_type": "markdown",
   "metadata": {
    "slideshow": {
     "slide_type": "slide"
    }
   },
   "source": [
    "# For Comprehensions\n",
    "\n",
    "Indy Scala - November 2016\n",
    "\n",
    "\n",
    "Brad Fritz | @bfritz | brad@fewerhassles.com"
   ]
  },
  {
   "cell_type": "markdown",
   "metadata": {},
   "source": [
    "[List comprehensions](https://en.wikipedia.org/wiki/List_comprehension) (math!) ...\n",
    "\n",
    "<img alt=\"https://en.wikipedia.org/wiki/List_comprehension\" src=\"https://wikimedia.org/api/rest_v1/media/math/render/svg/8cc639ecfd1200a7fa8c18ed8624443b6f550ace\"/>\n",
    "\n",
    "Meet Scala for loops ...\n",
    "\n",
    "```\n",
    "val grid = for {\n",
    "  row <- 1 to 2\n",
    "  col <- 1 to 3\n",
    "} yield (row, col)\n",
    "```"
   ]
  },
  {
   "cell_type": "markdown",
   "metadata": {},
   "source": [
    "## Examples..."
   ]
  },
  {
   "cell_type": "code",
   "execution_count": null,
   "metadata": {
    "collapsed": false,
    "scrolled": false
   },
   "outputs": [],
   "source": [
    "val grid = for {\n",
    "    row <- 1 to 2\n",
    "    col <- 1 to 3\n",
    "} yield (row, col)"
   ]
  },
  {
   "cell_type": "code",
   "execution_count": null,
   "metadata": {
    "collapsed": false
   },
   "outputs": [],
   "source": [
    "for (row <- 1 to 2; col <- 1 to 3) println((row, col))"
   ]
  },
  {
   "cell_type": "code",
   "execution_count": null,
   "metadata": {
    "collapsed": false
   },
   "outputs": [],
   "source": [
    "val squares = for {\n",
    "    x <- 1 to 10\n",
    "    y <- 1 to 10\n",
    "    sq = x * y if x == y\n",
    "} yield sq"
   ]
  },
  {
   "cell_type": "code",
   "execution_count": null,
   "metadata": {
    "collapsed": false
   },
   "outputs": [],
   "source": [
    "val nestedOptions = for {\n",
    "    o1 <- Some(\"string\")\n",
    "    o2 <- None\n",
    "    o3 <- Some(123)\n",
    "    _ = println(\"here!\")\n",
    "    o4 <- Some(\"other string\")\n",
    "} yield (s\"$o1 $o2 $o3 $o4\")\n",
    "\n",
    "val output = nestedOptions.getOrElse(\"one or more values missing\")"
   ]
  },
  {
   "cell_type": "code",
   "execution_count": null,
   "metadata": {
    "collapsed": false,
    "scrolled": true
   },
   "outputs": [],
   "source": [
    "case class Error()\n",
    "case class UserInput()\n",
    "case class Location()\n",
    "case class Forecast()\n",
    "\n",
    "def checkRateLimit(input: UserInput): Either[Error,Unit] = Right(Unit)\n",
    "def geolocate(input: UserInput): Either[Error,Location] = Right(Location())\n",
    "def findForecast(loc: Location): Either[Error,Forecast] = Right(Forecast())\n",
    "\n",
    "val input = UserInput()\n",
    "val forecast: Either[Error,Forecast] = for {\n",
    "    rateLimited  <- checkRateLimit(input)\n",
    "    userLocation <- geolocate(input)\n",
    "    forecast     <- findForecast(userLocation)\n",
    "} yield (forecast)"
   ]
  },
  {
   "cell_type": "markdown",
   "metadata": {},
   "source": [
    "![Erik Bakker Play HttpResult example](Erik_Bakker_play_http_result_example.png)\n",
    "\n",
    "[https://youtu.be/hGMndafDcc8?t=2130](https://youtu.be/hGMndafDcc8?t=2130)\n",
    "\n",
    "Where:\n",
    "\n",
    "```\n",
    "type HttpResult[A] = EitherT[Future, Result, A]\n",
    "```"
   ]
  },
  {
   "cell_type": "markdown",
   "metadata": {},
   "source": [
    "## Resources\n",
    "\n",
    "* [Journey to the Heart of the For-Yield](https://youtu.be/MHw-dDxC8Z4)\n",
    "  <br/>Kelsey Gilmore-Innis at Pacific Northwest Scala 2013\n",
    "* [Lovely for comprehensions: Scala's most useful syntactic tool](https://youtu.be/n_j2hzHQlNI)\n",
    "  <br/>Adam Rosien at Scala IO 2014\n",
    "* [Options in Futures, how to unsuck them](https://youtu.be/hGMndafDcc8)\n",
    "  <br/>Eric Bakker at ScalaDays 2015 in Amsterdam\n"
   ]
  }
 ],
 "metadata": {
  "celltoolbar": "Raw Cell Format",
  "kernelspec": {
   "display_name": "Scala 2.11",
   "language": "scala211",
   "name": "scala211"
  },
  "language_info": {
   "codemirror_mode": "text/x-scala",
   "file_extension": ".scala",
   "mimetype": "text/x-scala",
   "name": "scala211",
   "pygments_lexer": "scala",
   "version": "2.11.8"
  }
 },
 "nbformat": 4,
 "nbformat_minor": 1
}
