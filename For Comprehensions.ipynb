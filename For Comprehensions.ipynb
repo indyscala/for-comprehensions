{
 "cells": [
  {
   "cell_type": "markdown",
   "metadata": {
    "slideshow": {
     "slide_type": "slide"
    }
   },
   "source": [
    "# For Comprehensions\n",
    "\n",
    "Indy Scala - November 2016\n",
    "\n",
    "\n",
    "[Brad Fritz](http://bfritz.com/) | [@bfritz](https://twitter.com/bfritz/) | brad@fewerhassles.com"
   ]
  },
  {
   "cell_type": "markdown",
   "metadata": {},
   "source": [
    "[List comprehensions](https://en.wikipedia.org/wiki/List_comprehension) (math!) ...\n",
    "\n",
    "<img alt=\"https://en.wikipedia.org/wiki/List_comprehension\" src=\"https://wikimedia.org/api/rest_v1/media/math/render/svg/8cc639ecfd1200a7fa8c18ed8624443b6f550ace\"/>\n",
    "\n",
    "Meet for loops ...\n",
    "\n",
    "```\n",
    "val list = for {\n",
    "  x <- 1 to 1000\n",
    "  if x*x > 3\n",
    "} yield 2 * x\n",
    "```"
   ]
  },
  {
   "cell_type": "markdown",
   "metadata": {},
   "source": [
    "\n",
    "\n",
    "\n",
    "\n",
    "\n",
    "\n",
    "\n",
    "\n",
    "\n",
    "## Examples..."
   ]
  },
  {
   "cell_type": "code",
   "execution_count": null,
   "metadata": {
    "collapsed": false,
    "scrolled": false
   },
   "outputs": [],
   "source": [
    "val grid = for {\n",
    "    row <- 1 to 2 // generator #1\n",
    "    col <- 1 to 3 // generator #2\n",
    "} yield (row, col)"
   ]
  },
  {
   "cell_type": "code",
   "execution_count": null,
   "metadata": {
    "collapsed": false
   },
   "outputs": [],
   "source": [
    "for (row <- 1 to 2; col <- 1 to 3) println((row, col)) // no `yield`, only side effects"
   ]
  },
  {
   "cell_type": "code",
   "execution_count": null,
   "metadata": {
    "collapsed": false
   },
   "outputs": [],
   "source": [
    "val squares: Seq[Int] = for {\n",
    "    x <- 1 to 10\n",
    "    y <- 1 to 10\n",
    "    sq = x * y if x == y  // includes definition (`sq = x * y`) and filter (`if x == y`)\n",
    "} yield sq"
   ]
  },
  {
   "cell_type": "code",
   "execution_count": null,
   "metadata": {
    "collapsed": false
   },
   "outputs": [],
   "source": [
    "val nestedOptions: Option[String] = for {\n",
    "    o1 <- Some(\"string\")\n",
    "    o2 <- None            // will short-circuit here\n",
    "    o3 <- Some(123)\n",
    "    _ = println(\"here!\")  // handy for debugging\n",
    "    o4 <- Some(\"other string\")\n",
    "} yield (s\"$o1 $o2 $o3 $o4\")\n",
    "\n",
    "val output = nestedOptions.getOrElse(\"one or more values missing\")"
   ]
  },
  {
   "cell_type": "code",
   "execution_count": null,
   "metadata": {
    "collapsed": false,
    "scrolled": true
   },
   "outputs": [],
   "source": [
    "case class Error()\n",
    "case class UserInput()\n",
    "case class Location()\n",
    "case class Forecast()\n",
    "\n",
    "def checkRateLimit(input: UserInput): Either[Error,Unit] = Right(Unit)\n",
    "def geolocate(input: UserInput): Either[Error,Location] = Right(Location())\n",
    "def findForecast(loc: Location): Either[Error,Forecast] = Right(Forecast())\n",
    "\n",
    "val input = UserInput()\n",
    "\n",
    "val forecast: Either[Error,Forecast] = for {  // `Either` (with right-biased in 2.12) adds lots of power\n",
    "    rateLimited  <- checkRateLimit(input)\n",
    "    userLocation <- geolocate(input)\n",
    "    forecast     <- findForecast(userLocation)\n",
    "} yield (forecast)"
   ]
  },
  {
   "cell_type": "markdown",
   "metadata": {},
   "source": [
    "![Erik Bakker Play HttpResult example](Erik_Bakker_play_http_result_example.png)\n",
    "\n",
    "[https://youtu.be/hGMndafDcc8?t=2130](https://youtu.be/hGMndafDcc8?t=2130)\n",
    "\n",
    "where:\n",
    "\n",
    "```\n",
    "type HttpResult[A] = EitherT[Future, Result, A]\n",
    "```"
   ]
  },
  {
   "cell_type": "markdown",
   "metadata": {},
   "source": [
    "\n",
    "\n",
    "\n",
    "\n",
    "\n",
    "\n",
    "## More Formally...\n",
    "\n",
    "For comprehensions are [syntactic sugar](https://en.wikipedia.org/wiki/Syntactic_sugar) that come in two forms:\n",
    "\n",
    "```\n",
    " 1. for ( s ) yield e   // for-comprehension, useful for return value\n",
    " 2. for ( s ) e         // for-loop, returns `Unit`, useful for side effects\n",
    "``` \n",
    "\n",
    "where **s** is a sequence of\n",
    "\n",
    "* generators:    `row <- 1 to 2`\n",
    "* definitions:   `sq = x * y`\n",
    "* filters:       `if x == y`\n",
    "\n",
    "and **e** is an expression."
   ]
  },
  {
   "cell_type": "markdown",
   "metadata": {},
   "source": [
    "For comprehensions work on paramaterized classes `C[A]` where:\n",
    "\n",
    "```\n",
    "def map[B](f: A => B): C[B]\n",
    "def flatMap[B](f: A => C[B]): C[B]\n",
    "def filter(p: A => Boolean): C[A]\n",
    "```\n",
    "\n",
    "Classes that implement the contract:\n",
    "* List, Map and many other collections\n",
    "* Option\n",
    "* Try\n",
    "* Either\n",
    "* Future\n",
    "* Other monads...but being a monad is not required."
   ]
  },
  {
   "cell_type": "markdown",
   "metadata": {},
   "source": [
    "## Quick Review: map, flatMap, filter, foreach\n",
    "\n",
    "### <a href=\"http://www.scala-lang.org/api/current/scala/collection/Seq.html#map[B](f:A=>B):Seq[B]\">Seq[+A].map()</a>\n",
    "```\n",
    "def map[B](f: (A) => B): Seq[B]\n",
    "```\n",
    "\n",
    "Example:\n",
    "```\n",
    "[\"a\", \"b\", \"c\"].map(captialize)  -->  [\"A\", \"B\", \"C\"]\n",
    "```\n",
    "\n",
    "### <a href=\"http://www.scala-lang.org/api/current/scala/collection/Seq.html#flatMap[B](f:A=>scala.collection.GenTraversableOnce[B]):Seq[B]\">Seq[+A].flatMap()</a>\n",
    "```\n",
    "def flatMap[B](f: (A) => GenTraversableOnce[B]): Seq[B]\n",
    "```\n",
    "\n",
    "Example:\n",
    "```\n",
    "[\"abc\", \"def\"].flatMap(singleLetters)  -->  [\"a\", \"b\", \"c\", \"d\", \"e\", \"f\"]\n",
    "```\n",
    "\n",
    "### <a href=\"http://www.scala-lang.org/api/current/scala/collection/Seq.html#filter(p:A=>Boolean):Repr\">Seq[+A].filter()</a>\n",
    "```\n",
    "def filter(p: (A) => Boolean): Seq[A]\n",
    "```\n",
    "\n",
    "Example:\n",
    "```\n",
    "[\"abc\", \"def\"].filter(startsWithA)  -->  [\"abc\"]\n",
    "```\n",
    "\n",
    "### <a href=\"http://www.scala-lang.org/api/current/scala/collection/Seq.html#foreach(f:A=>Unit):Unit\">Seq[+A].foreach()</a>\n",
    "```\n",
    "def foreach(f: (A) => Unit): Unit\n",
    "```\n",
    "\n",
    "Example:\n",
    "```\n",
    "[\"abc\", \"def\"].foreach(println(_))\n",
    "abc\n",
    "def\n",
    "```"
   ]
  },
  {
   "cell_type": "markdown",
   "metadata": {},
   "source": [
    "## Desugar\n",
    "\n",
    "* Simple for-loop\n",
    "\n",
    "```\n",
    " Written:  for (x <- c1; y <- c2; z <- c3) {...}\n",
    "\n",
    "Desugars:  c1.foreach(x => c2.foreach(y => c3.foreach(z => {...})))\n",
    "```\n",
    "\n",
    "* Simple for-comprehension\n",
    "\n",
    "```\n",
    " Written:  for (x <- c1; y <- c2; z <- c3) yield {...}\n",
    "\n",
    "Desugars:  c1.flatMap(x => c2.flatMap(y => c3.map(z => {...})))\n",
    "```\n",
    "\n",
    "* For-comprehension with filter\n",
    "\n",
    "```\n",
    " Written:  for (x <- c; if cond) yield {...}\n",
    "\n",
    "Desugars:  c.withFilter(x => cond).map(x => {...})\n",
    "      or:  c.filter(    x => cond).map(x => {...})\n",
    "```\n",
    "\n",
    "* For-comprehension with definitions\n",
    "\n",
    "```\n",
    " Written:  for (x <- c; y = ...) yield {...}\n",
    " \n",
    "Desugars:  c.map(x => (x, ...)).map((x, y) => {...})\n",
    "```"
   ]
  },
  {
   "cell_type": "code",
   "execution_count": null,
   "metadata": {
    "collapsed": false
   },
   "outputs": [],
   "source": [
    "// When all else fails, let the compiler tell us how it desugars...\n",
    "reflect.runtime.universe.reify {\n",
    "    for (r <- 1 to 3; c <- 1 to 10 if c != 5) yield (r, c)\n",
    "}.tree\n",
    "\n",
    "// Thanks to Adam Rosien\n",
    "//   http://arosien.github.io/lovely-for-comps/#slide14\n",
    "//   https://youtu.be/n_j2hzHQlNI?t=405"
   ]
  },
  {
   "cell_type": "markdown",
   "metadata": {},
   "source": [
    "Have you seen code like this before?  (Probably in Java.)\n",
    "\n",
    "![Scala pretending to be Java by Kelsey Gilmore-Innis](Kelsey_Gilmore-Innis_Java-ish_option_checks.png)\n",
    "\n",
    "[https://youtu.be/MHw-dDxC8Z4?t=980](https://youtu.be/MHw-dDxC8Z4?t=980)"
   ]
  },
  {
   "cell_type": "markdown",
   "metadata": {},
   "source": [
    "For comprehensions can make it a lot nicer...\n",
    "![Better Option handling with for comprehension by Kelsey Gilmore-Innis](Kelsey_Gilmore-Innis_for_comprehension.png)\n",
    "\n",
    "[https://youtu.be/MHw-dDxC8Z4?t=1056](https://youtu.be/MHw-dDxC8Z4?t=1056)"
   ]
  },
  {
   "cell_type": "markdown",
   "metadata": {},
   "source": [
    "Let's walk through a similar example...\n",
    "\n",
    "Imagine a Java object graph like:\n",
    "```\n",
    "Map<String, Section> sections\n",
    "\n",
    "Section\n",
    "  Optional<Sport> sport\n",
    "  \n",
    "Sport\n",
    "  boolean active\n",
    "  boolean complete\n",
    "```\n",
    "...and we want to know if a given section is 1) for a sport, that is 2) active, and 3) complete."
   ]
  },
  {
   "cell_type": "markdown",
   "metadata": {},
   "source": [
    "The Java code might look like:\n",
    "```\n",
    "public boolean isActiveAndComplete(final Section section) {\n",
    "    if (section != null) {\n",
    "        if (section.getSport().isPresent()) {\n",
    "            Sport sport = section.getSport().get();\n",
    "            return sport.isActive() && sport.isComplete();\n",
    "        }\n",
    "    }\n",
    "    return false;\n",
    "}\n",
    "```"
   ]
  },
  {
   "cell_type": "code",
   "execution_count": null,
   "metadata": {
    "collapsed": false
   },
   "outputs": [],
   "source": [
    "// Let's see what it looks like in Scala without the for-comprehension sugar...\n",
    "case class Sport(code: String, active: Boolean, complete: Boolean)\n",
    "case class Section(sport: Option[Sport])\n",
    "\n",
    "def isActiveAndComplete(maybeSection: Option[Section]) = {\n",
    "    maybeSection.flatMap { section =>\n",
    "        section.sport.map { sport =>\n",
    "            sport.active && sport.complete\n",
    "        }\n",
    "    }.getOrElse(false)\n",
    "}\n",
    "\n",
    "// isActiveAndComplete(None)\n",
    "// isActiveAndComplete(Some(Section(Some(Sport(\"MBB\", true, true)))))"
   ]
  },
  {
   "cell_type": "code",
   "execution_count": null,
   "metadata": {
    "collapsed": false
   },
   "outputs": [],
   "source": [
    "// ...and with the for-comprehension sugar...\n",
    "def isActiveAndComplete(maybeSection: Option[Section]) = (\n",
    "    for {\n",
    "        section <- maybeSection\n",
    "        sport <- section.sport\n",
    "    } yield {\n",
    "        sport.active && sport.complete\n",
    "    }\n",
    ").getOrElse(false)\n",
    "\n",
    "// isActiveAndComplete(None)\n",
    "// isActiveAndComplete(Some(Section(Some(Sport(\"MBB\", true, true)))))"
   ]
  },
  {
   "cell_type": "markdown",
   "metadata": {},
   "source": [
    "## Resources\n",
    "\n",
    "### Videos\n",
    "* [Journey to the Heart of the For-Yield](https://youtu.be/MHw-dDxC8Z4)\n",
    "  <br/>Kelsey Gilmore-Innis at Pacific Northwest Scala 2013\n",
    "* [Lovely for comprehensions: Scala's most useful syntactic tool](https://youtu.be/n_j2hzHQlNI)\n",
    "  <br/>Adam Rosien at Scala IO 2014\n",
    "* [Options in Futures, how to unsuck them](https://youtu.be/hGMndafDcc8)\n",
    "  <br/>Eric Bakker at ScalaDays 2015 in Amsterdam\n",
    "  \n",
    "### Other\n",
    " * Scala 2.12 Language Spec [section on for comprehensions](http://www.scala-lang.org/files/archive/spec/2.12/06-expressions.html#for-comprehensions-and-for-loops)\n",
    " * Daniel C. Sobral [describes the for-comprehension sugar](http://stackoverflow.com/a/1059501) on StackOverflow\n",
    " * [Progamming in Scala](https://www.amazon.com/Programming-Scala-Comprehensive-Step-Step/dp/0981531644) Chapter 23 \"For Expressions Revisited\"\n",
    " * [Scala by Example](http://www.scala-lang.org/sites/default/files/linuxsoft_archives/docu/files/ScalaByExample.pdf) Chapter 10 \"For-Comprehensions\""
   ]
  }
 ],
 "metadata": {
  "celltoolbar": "Raw Cell Format",
  "kernelspec": {
   "display_name": "Scala 2.11",
   "language": "scala211",
   "name": "scala211"
  },
  "language_info": {
   "codemirror_mode": "text/x-scala",
   "file_extension": ".scala",
   "mimetype": "text/x-scala",
   "name": "scala211",
   "pygments_lexer": "scala",
   "version": "2.11.8"
  }
 },
 "nbformat": 4,
 "nbformat_minor": 1
}
